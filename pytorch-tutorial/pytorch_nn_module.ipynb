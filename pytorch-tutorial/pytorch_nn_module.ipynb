{
  "nbformat": 4,
  "nbformat_minor": 0,
  "metadata": {
    "colab": {
      "provenance": []
    },
    "kernelspec": {
      "name": "python3",
      "display_name": "Python 3"
    },
    "language_info": {
      "name": "python"
    }
  },
  "cells": [
    {
      "cell_type": "code",
      "execution_count": 63,
      "metadata": {
        "id": "8DNCK2StCW6-"
      },
      "outputs": [],
      "source": [
        "#create model class\n",
        "import torch\n",
        "import torch.nn as nn"
      ]
    },
    {
      "cell_type": "code",
      "source": [
        "# create model class\n",
        "class Model(nn.Module):\n",
        "  def __init__ (self, num_features):\n",
        "    super().__init__()\n",
        "    self.linear = nn.Linear(num_features, 1)\n",
        "    self.sigmoid = nn.Sigmoid()\n",
        "\n",
        "  def forward(self, features):\n",
        "    out = self.linear(features)\n",
        "    out = self.sigmoid(out)\n",
        "\n",
        "    return out"
      ],
      "metadata": {
        "id": "7EDykQsumekO"
      },
      "execution_count": 64,
      "outputs": []
    },
    {
      "cell_type": "code",
      "source": [
        "# create dataset\n",
        "features = torch.rand(10,5)\n",
        "\n",
        "#create model\n",
        "model = Model(features.shape[1])\n",
        "\n",
        "#call model for forward pass\n",
        "\n",
        "# model.forward(features)\n",
        "model(features)"
      ],
      "metadata": {
        "colab": {
          "base_uri": "https://localhost:8080/"
        },
        "id": "pH3O10M1mrax",
        "outputId": "9f987e56-af6f-4a5a-898c-a5a6c062a1f9"
      },
      "execution_count": 65,
      "outputs": [
        {
          "output_type": "execute_result",
          "data": {
            "text/plain": [
              "tensor([[0.4930],\n",
              "        [0.4658],\n",
              "        [0.5403],\n",
              "        [0.5117],\n",
              "        [0.5034],\n",
              "        [0.5403],\n",
              "        [0.4662],\n",
              "        [0.4553],\n",
              "        [0.4732],\n",
              "        [0.5173]], grad_fn=<SigmoidBackward0>)"
            ]
          },
          "metadata": {},
          "execution_count": 65
        }
      ]
    },
    {
      "cell_type": "code",
      "source": [
        "# show model weights\n",
        "model.linear.weight"
      ],
      "metadata": {
        "colab": {
          "base_uri": "https://localhost:8080/"
        },
        "id": "H0ZzY4mqnbPE",
        "outputId": "99ad743b-4cac-4c38-aa25-fd0eb06e8fab"
      },
      "execution_count": 66,
      "outputs": [
        {
          "output_type": "execute_result",
          "data": {
            "text/plain": [
              "Parameter containing:\n",
              "tensor([[ 0.1016, -0.2208,  0.3830,  0.0874,  0.1976]], requires_grad=True)"
            ]
          },
          "metadata": {},
          "execution_count": 66
        }
      ]
    },
    {
      "cell_type": "code",
      "source": [
        "#show model bias\n",
        "model.linear.bias"
      ],
      "metadata": {
        "colab": {
          "base_uri": "https://localhost:8080/"
        },
        "id": "3U4bxqOVnxD3",
        "outputId": "a020e9eb-3e3c-49c1-d053-3e3ea02d8805"
      },
      "execution_count": 67,
      "outputs": [
        {
          "output_type": "execute_result",
          "data": {
            "text/plain": [
              "Parameter containing:\n",
              "tensor([-0.2550], requires_grad=True)"
            ]
          },
          "metadata": {},
          "execution_count": 67
        }
      ]
    },
    {
      "cell_type": "code",
      "source": [
        "!pip install torchinfo"
      ],
      "metadata": {
        "colab": {
          "base_uri": "https://localhost:8080/"
        },
        "id": "Kg2W3D5vn08b",
        "outputId": "6236a29b-ce77-45a7-dee1-eb1d6f74e749"
      },
      "execution_count": 68,
      "outputs": [
        {
          "output_type": "stream",
          "name": "stdout",
          "text": [
            "Requirement already satisfied: torchinfo in /usr/local/lib/python3.11/dist-packages (1.8.0)\n"
          ]
        }
      ]
    },
    {
      "cell_type": "code",
      "source": [
        "from torchinfo import summary\n",
        "summary(model , input_size =(10,5))"
      ],
      "metadata": {
        "colab": {
          "base_uri": "https://localhost:8080/"
        },
        "id": "9Hbcjtprn3yv",
        "outputId": "1b38c59a-f6b1-45df-c99b-bf9dfd4b063d"
      },
      "execution_count": 69,
      "outputs": [
        {
          "output_type": "execute_result",
          "data": {
            "text/plain": [
              "==========================================================================================\n",
              "Layer (type:depth-idx)                   Output Shape              Param #\n",
              "==========================================================================================\n",
              "Model                                    [10, 1]                   --\n",
              "├─Linear: 1-1                            [10, 1]                   6\n",
              "├─Sigmoid: 1-2                           [10, 1]                   --\n",
              "==========================================================================================\n",
              "Total params: 6\n",
              "Trainable params: 6\n",
              "Non-trainable params: 0\n",
              "Total mult-adds (Units.MEGABYTES): 0.00\n",
              "==========================================================================================\n",
              "Input size (MB): 0.00\n",
              "Forward/backward pass size (MB): 0.00\n",
              "Params size (MB): 0.00\n",
              "Estimated Total Size (MB): 0.00\n",
              "=========================================================================================="
            ]
          },
          "metadata": {},
          "execution_count": 69
        }
      ]
    },
    {
      "cell_type": "code",
      "source": [
        "# create model with hidden network\n",
        "class MLPModel(nn.Module):\n",
        "  def __init__ (self, num_features):\n",
        "    super().__init__()\n",
        "    self.linear1 = nn.Linear(num_features, 3)\n",
        "    self.relu= nn.ReLU()\n",
        "    self.linear2 = nn.Linear(3,1)\n",
        "    self.sigmoid = nn.Sigmoid()\n",
        "\n",
        "  def forward(self, features):\n",
        "    out = self.linear1(features)\n",
        "    out = self.relu(out)\n",
        "    out = self.linear2(out)\n",
        "    out = self.sigmoid(out)\n",
        "\n",
        "    return out"
      ],
      "metadata": {
        "id": "vfyQ_v1Tn-aW"
      },
      "execution_count": 70,
      "outputs": []
    },
    {
      "cell_type": "code",
      "source": [
        "# create dataset\n",
        "features = torch.rand(10,5)\n",
        "\n",
        "#create model\n",
        "model = MLPModel(features.shape[1])\n",
        "\n",
        "\n",
        "# model.forward(features)\n",
        "model(features)"
      ],
      "metadata": {
        "colab": {
          "base_uri": "https://localhost:8080/"
        },
        "id": "PQqCwyxFpLvo",
        "outputId": "2b0d8a80-cb0d-49ae-ab0a-692527566038"
      },
      "execution_count": 71,
      "outputs": [
        {
          "output_type": "execute_result",
          "data": {
            "text/plain": [
              "tensor([[0.5902],\n",
              "        [0.5975],\n",
              "        [0.6043],\n",
              "        [0.5924],\n",
              "        [0.5987],\n",
              "        [0.5947],\n",
              "        [0.5881],\n",
              "        [0.5957],\n",
              "        [0.5957],\n",
              "        [0.5991]], grad_fn=<SigmoidBackward0>)"
            ]
          },
          "metadata": {},
          "execution_count": 71
        }
      ]
    },
    {
      "cell_type": "code",
      "source": [
        "summary(model, input_size=(10,5))"
      ],
      "metadata": {
        "colab": {
          "base_uri": "https://localhost:8080/"
        },
        "id": "E3XWX-hvpQjw",
        "outputId": "5123a7f2-8fa3-49f2-b73c-d4d8f5a30810"
      },
      "execution_count": 72,
      "outputs": [
        {
          "output_type": "execute_result",
          "data": {
            "text/plain": [
              "==========================================================================================\n",
              "Layer (type:depth-idx)                   Output Shape              Param #\n",
              "==========================================================================================\n",
              "MLPModel                                 [10, 1]                   --\n",
              "├─Linear: 1-1                            [10, 3]                   18\n",
              "├─ReLU: 1-2                              [10, 3]                   --\n",
              "├─Linear: 1-3                            [10, 1]                   4\n",
              "├─Sigmoid: 1-4                           [10, 1]                   --\n",
              "==========================================================================================\n",
              "Total params: 22\n",
              "Trainable params: 22\n",
              "Non-trainable params: 0\n",
              "Total mult-adds (Units.MEGABYTES): 0.00\n",
              "==========================================================================================\n",
              "Input size (MB): 0.00\n",
              "Forward/backward pass size (MB): 0.00\n",
              "Params size (MB): 0.00\n",
              "Estimated Total Size (MB): 0.00\n",
              "=========================================================================================="
            ]
          },
          "metadata": {},
          "execution_count": 72
        }
      ]
    },
    {
      "cell_type": "code",
      "source": [
        "# sequential container\n",
        "\n",
        "# create model with hidden network\n",
        "class SeqModel(nn.Module):\n",
        "  def __init__ (self, num_features):\n",
        "    super().__init__()\n",
        "    self.network = nn.Sequential(\n",
        "        nn.Linear(num_features, 3),\n",
        "        nn.ReLU(),\n",
        "        nn.Linear(3,1),\n",
        "        nn.Sigmoid())\n",
        "\n",
        "  def forward(self, features):\n",
        "    out = self.network(features)\n",
        "\n",
        "\n",
        "    return out"
      ],
      "metadata": {
        "id": "YNIwDgEororA"
      },
      "execution_count": 73,
      "outputs": []
    },
    {
      "cell_type": "code",
      "source": [
        "# create dataset\n",
        "features = torch.rand(10,5)\n",
        "\n",
        "#create model\n",
        "model = SeqModel(features.shape[1])\n",
        "\n",
        "# model.forward(features)\n",
        "model(features)"
      ],
      "metadata": {
        "colab": {
          "base_uri": "https://localhost:8080/"
        },
        "id": "HxEKO6wCsIMK",
        "outputId": "fe41eb82-4291-45a6-9fd2-d0dba23dd41b"
      },
      "execution_count": 74,
      "outputs": [
        {
          "output_type": "execute_result",
          "data": {
            "text/plain": [
              "tensor([[0.4680],\n",
              "        [0.4661],\n",
              "        [0.4708],\n",
              "        [0.5001],\n",
              "        [0.5131],\n",
              "        [0.4706],\n",
              "        [0.4704],\n",
              "        [0.4892],\n",
              "        [0.4830],\n",
              "        [0.4929]], grad_fn=<SigmoidBackward0>)"
            ]
          },
          "metadata": {},
          "execution_count": 74
        }
      ]
    },
    {
      "cell_type": "code",
      "source": [
        "import numpy as np\n",
        "import pandas as pd\n",
        "from sklearn.model_selection import train_test_split\n",
        "from sklearn.preprocessing import StandardScaler\n",
        "from sklearn.preprocessing import LabelEncoder"
      ],
      "metadata": {
        "id": "IcfanX6EsXzI"
      },
      "execution_count": 75,
      "outputs": []
    },
    {
      "cell_type": "code",
      "source": [
        "df = pd.read_csv('https://raw.githubusercontent.com/gscdit/Breast-Cancer-Detection/refs/heads/master/data.csv')\n",
        "df.head()"
      ],
      "metadata": {
        "id": "o2xx4HuNtT16",
        "colab": {
          "base_uri": "https://localhost:8080/",
          "height": 273
        },
        "outputId": "d1578283-72a5-48f1-ffa1-c1d896a7dd2e"
      },
      "execution_count": 76,
      "outputs": [
        {
          "output_type": "execute_result",
          "data": {
            "text/plain": [
              "         id diagnosis  radius_mean  texture_mean  perimeter_mean  area_mean  \\\n",
              "0    842302         M        17.99         10.38          122.80     1001.0   \n",
              "1    842517         M        20.57         17.77          132.90     1326.0   \n",
              "2  84300903         M        19.69         21.25          130.00     1203.0   \n",
              "3  84348301         M        11.42         20.38           77.58      386.1   \n",
              "4  84358402         M        20.29         14.34          135.10     1297.0   \n",
              "\n",
              "   smoothness_mean  compactness_mean  concavity_mean  concave points_mean  \\\n",
              "0          0.11840           0.27760          0.3001              0.14710   \n",
              "1          0.08474           0.07864          0.0869              0.07017   \n",
              "2          0.10960           0.15990          0.1974              0.12790   \n",
              "3          0.14250           0.28390          0.2414              0.10520   \n",
              "4          0.10030           0.13280          0.1980              0.10430   \n",
              "\n",
              "   ...  texture_worst  perimeter_worst  area_worst  smoothness_worst  \\\n",
              "0  ...          17.33           184.60      2019.0            0.1622   \n",
              "1  ...          23.41           158.80      1956.0            0.1238   \n",
              "2  ...          25.53           152.50      1709.0            0.1444   \n",
              "3  ...          26.50            98.87       567.7            0.2098   \n",
              "4  ...          16.67           152.20      1575.0            0.1374   \n",
              "\n",
              "   compactness_worst  concavity_worst  concave points_worst  symmetry_worst  \\\n",
              "0             0.6656           0.7119                0.2654          0.4601   \n",
              "1             0.1866           0.2416                0.1860          0.2750   \n",
              "2             0.4245           0.4504                0.2430          0.3613   \n",
              "3             0.8663           0.6869                0.2575          0.6638   \n",
              "4             0.2050           0.4000                0.1625          0.2364   \n",
              "\n",
              "   fractal_dimension_worst  Unnamed: 32  \n",
              "0                  0.11890          NaN  \n",
              "1                  0.08902          NaN  \n",
              "2                  0.08758          NaN  \n",
              "3                  0.17300          NaN  \n",
              "4                  0.07678          NaN  \n",
              "\n",
              "[5 rows x 33 columns]"
            ],
            "text/html": [
              "\n",
              "  <div id=\"df-5b4a9c4a-6fe5-4a14-b553-b787b07b3a38\" class=\"colab-df-container\">\n",
              "    <div>\n",
              "<style scoped>\n",
              "    .dataframe tbody tr th:only-of-type {\n",
              "        vertical-align: middle;\n",
              "    }\n",
              "\n",
              "    .dataframe tbody tr th {\n",
              "        vertical-align: top;\n",
              "    }\n",
              "\n",
              "    .dataframe thead th {\n",
              "        text-align: right;\n",
              "    }\n",
              "</style>\n",
              "<table border=\"1\" class=\"dataframe\">\n",
              "  <thead>\n",
              "    <tr style=\"text-align: right;\">\n",
              "      <th></th>\n",
              "      <th>id</th>\n",
              "      <th>diagnosis</th>\n",
              "      <th>radius_mean</th>\n",
              "      <th>texture_mean</th>\n",
              "      <th>perimeter_mean</th>\n",
              "      <th>area_mean</th>\n",
              "      <th>smoothness_mean</th>\n",
              "      <th>compactness_mean</th>\n",
              "      <th>concavity_mean</th>\n",
              "      <th>concave points_mean</th>\n",
              "      <th>...</th>\n",
              "      <th>texture_worst</th>\n",
              "      <th>perimeter_worst</th>\n",
              "      <th>area_worst</th>\n",
              "      <th>smoothness_worst</th>\n",
              "      <th>compactness_worst</th>\n",
              "      <th>concavity_worst</th>\n",
              "      <th>concave points_worst</th>\n",
              "      <th>symmetry_worst</th>\n",
              "      <th>fractal_dimension_worst</th>\n",
              "      <th>Unnamed: 32</th>\n",
              "    </tr>\n",
              "  </thead>\n",
              "  <tbody>\n",
              "    <tr>\n",
              "      <th>0</th>\n",
              "      <td>842302</td>\n",
              "      <td>M</td>\n",
              "      <td>17.99</td>\n",
              "      <td>10.38</td>\n",
              "      <td>122.80</td>\n",
              "      <td>1001.0</td>\n",
              "      <td>0.11840</td>\n",
              "      <td>0.27760</td>\n",
              "      <td>0.3001</td>\n",
              "      <td>0.14710</td>\n",
              "      <td>...</td>\n",
              "      <td>17.33</td>\n",
              "      <td>184.60</td>\n",
              "      <td>2019.0</td>\n",
              "      <td>0.1622</td>\n",
              "      <td>0.6656</td>\n",
              "      <td>0.7119</td>\n",
              "      <td>0.2654</td>\n",
              "      <td>0.4601</td>\n",
              "      <td>0.11890</td>\n",
              "      <td>NaN</td>\n",
              "    </tr>\n",
              "    <tr>\n",
              "      <th>1</th>\n",
              "      <td>842517</td>\n",
              "      <td>M</td>\n",
              "      <td>20.57</td>\n",
              "      <td>17.77</td>\n",
              "      <td>132.90</td>\n",
              "      <td>1326.0</td>\n",
              "      <td>0.08474</td>\n",
              "      <td>0.07864</td>\n",
              "      <td>0.0869</td>\n",
              "      <td>0.07017</td>\n",
              "      <td>...</td>\n",
              "      <td>23.41</td>\n",
              "      <td>158.80</td>\n",
              "      <td>1956.0</td>\n",
              "      <td>0.1238</td>\n",
              "      <td>0.1866</td>\n",
              "      <td>0.2416</td>\n",
              "      <td>0.1860</td>\n",
              "      <td>0.2750</td>\n",
              "      <td>0.08902</td>\n",
              "      <td>NaN</td>\n",
              "    </tr>\n",
              "    <tr>\n",
              "      <th>2</th>\n",
              "      <td>84300903</td>\n",
              "      <td>M</td>\n",
              "      <td>19.69</td>\n",
              "      <td>21.25</td>\n",
              "      <td>130.00</td>\n",
              "      <td>1203.0</td>\n",
              "      <td>0.10960</td>\n",
              "      <td>0.15990</td>\n",
              "      <td>0.1974</td>\n",
              "      <td>0.12790</td>\n",
              "      <td>...</td>\n",
              "      <td>25.53</td>\n",
              "      <td>152.50</td>\n",
              "      <td>1709.0</td>\n",
              "      <td>0.1444</td>\n",
              "      <td>0.4245</td>\n",
              "      <td>0.4504</td>\n",
              "      <td>0.2430</td>\n",
              "      <td>0.3613</td>\n",
              "      <td>0.08758</td>\n",
              "      <td>NaN</td>\n",
              "    </tr>\n",
              "    <tr>\n",
              "      <th>3</th>\n",
              "      <td>84348301</td>\n",
              "      <td>M</td>\n",
              "      <td>11.42</td>\n",
              "      <td>20.38</td>\n",
              "      <td>77.58</td>\n",
              "      <td>386.1</td>\n",
              "      <td>0.14250</td>\n",
              "      <td>0.28390</td>\n",
              "      <td>0.2414</td>\n",
              "      <td>0.10520</td>\n",
              "      <td>...</td>\n",
              "      <td>26.50</td>\n",
              "      <td>98.87</td>\n",
              "      <td>567.7</td>\n",
              "      <td>0.2098</td>\n",
              "      <td>0.8663</td>\n",
              "      <td>0.6869</td>\n",
              "      <td>0.2575</td>\n",
              "      <td>0.6638</td>\n",
              "      <td>0.17300</td>\n",
              "      <td>NaN</td>\n",
              "    </tr>\n",
              "    <tr>\n",
              "      <th>4</th>\n",
              "      <td>84358402</td>\n",
              "      <td>M</td>\n",
              "      <td>20.29</td>\n",
              "      <td>14.34</td>\n",
              "      <td>135.10</td>\n",
              "      <td>1297.0</td>\n",
              "      <td>0.10030</td>\n",
              "      <td>0.13280</td>\n",
              "      <td>0.1980</td>\n",
              "      <td>0.10430</td>\n",
              "      <td>...</td>\n",
              "      <td>16.67</td>\n",
              "      <td>152.20</td>\n",
              "      <td>1575.0</td>\n",
              "      <td>0.1374</td>\n",
              "      <td>0.2050</td>\n",
              "      <td>0.4000</td>\n",
              "      <td>0.1625</td>\n",
              "      <td>0.2364</td>\n",
              "      <td>0.07678</td>\n",
              "      <td>NaN</td>\n",
              "    </tr>\n",
              "  </tbody>\n",
              "</table>\n",
              "<p>5 rows × 33 columns</p>\n",
              "</div>\n",
              "    <div class=\"colab-df-buttons\">\n",
              "\n",
              "  <div class=\"colab-df-container\">\n",
              "    <button class=\"colab-df-convert\" onclick=\"convertToInteractive('df-5b4a9c4a-6fe5-4a14-b553-b787b07b3a38')\"\n",
              "            title=\"Convert this dataframe to an interactive table.\"\n",
              "            style=\"display:none;\">\n",
              "\n",
              "  <svg xmlns=\"http://www.w3.org/2000/svg\" height=\"24px\" viewBox=\"0 -960 960 960\">\n",
              "    <path d=\"M120-120v-720h720v720H120Zm60-500h600v-160H180v160Zm220 220h160v-160H400v160Zm0 220h160v-160H400v160ZM180-400h160v-160H180v160Zm440 0h160v-160H620v160ZM180-180h160v-160H180v160Zm440 0h160v-160H620v160Z\"/>\n",
              "  </svg>\n",
              "    </button>\n",
              "\n",
              "  <style>\n",
              "    .colab-df-container {\n",
              "      display:flex;\n",
              "      gap: 12px;\n",
              "    }\n",
              "\n",
              "    .colab-df-convert {\n",
              "      background-color: #E8F0FE;\n",
              "      border: none;\n",
              "      border-radius: 50%;\n",
              "      cursor: pointer;\n",
              "      display: none;\n",
              "      fill: #1967D2;\n",
              "      height: 32px;\n",
              "      padding: 0 0 0 0;\n",
              "      width: 32px;\n",
              "    }\n",
              "\n",
              "    .colab-df-convert:hover {\n",
              "      background-color: #E2EBFA;\n",
              "      box-shadow: 0px 1px 2px rgba(60, 64, 67, 0.3), 0px 1px 3px 1px rgba(60, 64, 67, 0.15);\n",
              "      fill: #174EA6;\n",
              "    }\n",
              "\n",
              "    .colab-df-buttons div {\n",
              "      margin-bottom: 4px;\n",
              "    }\n",
              "\n",
              "    [theme=dark] .colab-df-convert {\n",
              "      background-color: #3B4455;\n",
              "      fill: #D2E3FC;\n",
              "    }\n",
              "\n",
              "    [theme=dark] .colab-df-convert:hover {\n",
              "      background-color: #434B5C;\n",
              "      box-shadow: 0px 1px 3px 1px rgba(0, 0, 0, 0.15);\n",
              "      filter: drop-shadow(0px 1px 2px rgba(0, 0, 0, 0.3));\n",
              "      fill: #FFFFFF;\n",
              "    }\n",
              "  </style>\n",
              "\n",
              "    <script>\n",
              "      const buttonEl =\n",
              "        document.querySelector('#df-5b4a9c4a-6fe5-4a14-b553-b787b07b3a38 button.colab-df-convert');\n",
              "      buttonEl.style.display =\n",
              "        google.colab.kernel.accessAllowed ? 'block' : 'none';\n",
              "\n",
              "      async function convertToInteractive(key) {\n",
              "        const element = document.querySelector('#df-5b4a9c4a-6fe5-4a14-b553-b787b07b3a38');\n",
              "        const dataTable =\n",
              "          await google.colab.kernel.invokeFunction('convertToInteractive',\n",
              "                                                    [key], {});\n",
              "        if (!dataTable) return;\n",
              "\n",
              "        const docLinkHtml = 'Like what you see? Visit the ' +\n",
              "          '<a target=\"_blank\" href=https://colab.research.google.com/notebooks/data_table.ipynb>data table notebook</a>'\n",
              "          + ' to learn more about interactive tables.';\n",
              "        element.innerHTML = '';\n",
              "        dataTable['output_type'] = 'display_data';\n",
              "        await google.colab.output.renderOutput(dataTable, element);\n",
              "        const docLink = document.createElement('div');\n",
              "        docLink.innerHTML = docLinkHtml;\n",
              "        element.appendChild(docLink);\n",
              "      }\n",
              "    </script>\n",
              "  </div>\n",
              "\n",
              "\n",
              "<div id=\"df-880db41c-312b-43c2-97d9-38d84a458c6c\">\n",
              "  <button class=\"colab-df-quickchart\" onclick=\"quickchart('df-880db41c-312b-43c2-97d9-38d84a458c6c')\"\n",
              "            title=\"Suggest charts\"\n",
              "            style=\"display:none;\">\n",
              "\n",
              "<svg xmlns=\"http://www.w3.org/2000/svg\" height=\"24px\"viewBox=\"0 0 24 24\"\n",
              "     width=\"24px\">\n",
              "    <g>\n",
              "        <path d=\"M19 3H5c-1.1 0-2 .9-2 2v14c0 1.1.9 2 2 2h14c1.1 0 2-.9 2-2V5c0-1.1-.9-2-2-2zM9 17H7v-7h2v7zm4 0h-2V7h2v10zm4 0h-2v-4h2v4z\"/>\n",
              "    </g>\n",
              "</svg>\n",
              "  </button>\n",
              "\n",
              "<style>\n",
              "  .colab-df-quickchart {\n",
              "      --bg-color: #E8F0FE;\n",
              "      --fill-color: #1967D2;\n",
              "      --hover-bg-color: #E2EBFA;\n",
              "      --hover-fill-color: #174EA6;\n",
              "      --disabled-fill-color: #AAA;\n",
              "      --disabled-bg-color: #DDD;\n",
              "  }\n",
              "\n",
              "  [theme=dark] .colab-df-quickchart {\n",
              "      --bg-color: #3B4455;\n",
              "      --fill-color: #D2E3FC;\n",
              "      --hover-bg-color: #434B5C;\n",
              "      --hover-fill-color: #FFFFFF;\n",
              "      --disabled-bg-color: #3B4455;\n",
              "      --disabled-fill-color: #666;\n",
              "  }\n",
              "\n",
              "  .colab-df-quickchart {\n",
              "    background-color: var(--bg-color);\n",
              "    border: none;\n",
              "    border-radius: 50%;\n",
              "    cursor: pointer;\n",
              "    display: none;\n",
              "    fill: var(--fill-color);\n",
              "    height: 32px;\n",
              "    padding: 0;\n",
              "    width: 32px;\n",
              "  }\n",
              "\n",
              "  .colab-df-quickchart:hover {\n",
              "    background-color: var(--hover-bg-color);\n",
              "    box-shadow: 0 1px 2px rgba(60, 64, 67, 0.3), 0 1px 3px 1px rgba(60, 64, 67, 0.15);\n",
              "    fill: var(--button-hover-fill-color);\n",
              "  }\n",
              "\n",
              "  .colab-df-quickchart-complete:disabled,\n",
              "  .colab-df-quickchart-complete:disabled:hover {\n",
              "    background-color: var(--disabled-bg-color);\n",
              "    fill: var(--disabled-fill-color);\n",
              "    box-shadow: none;\n",
              "  }\n",
              "\n",
              "  .colab-df-spinner {\n",
              "    border: 2px solid var(--fill-color);\n",
              "    border-color: transparent;\n",
              "    border-bottom-color: var(--fill-color);\n",
              "    animation:\n",
              "      spin 1s steps(1) infinite;\n",
              "  }\n",
              "\n",
              "  @keyframes spin {\n",
              "    0% {\n",
              "      border-color: transparent;\n",
              "      border-bottom-color: var(--fill-color);\n",
              "      border-left-color: var(--fill-color);\n",
              "    }\n",
              "    20% {\n",
              "      border-color: transparent;\n",
              "      border-left-color: var(--fill-color);\n",
              "      border-top-color: var(--fill-color);\n",
              "    }\n",
              "    30% {\n",
              "      border-color: transparent;\n",
              "      border-left-color: var(--fill-color);\n",
              "      border-top-color: var(--fill-color);\n",
              "      border-right-color: var(--fill-color);\n",
              "    }\n",
              "    40% {\n",
              "      border-color: transparent;\n",
              "      border-right-color: var(--fill-color);\n",
              "      border-top-color: var(--fill-color);\n",
              "    }\n",
              "    60% {\n",
              "      border-color: transparent;\n",
              "      border-right-color: var(--fill-color);\n",
              "    }\n",
              "    80% {\n",
              "      border-color: transparent;\n",
              "      border-right-color: var(--fill-color);\n",
              "      border-bottom-color: var(--fill-color);\n",
              "    }\n",
              "    90% {\n",
              "      border-color: transparent;\n",
              "      border-bottom-color: var(--fill-color);\n",
              "    }\n",
              "  }\n",
              "</style>\n",
              "\n",
              "  <script>\n",
              "    async function quickchart(key) {\n",
              "      const quickchartButtonEl =\n",
              "        document.querySelector('#' + key + ' button');\n",
              "      quickchartButtonEl.disabled = true;  // To prevent multiple clicks.\n",
              "      quickchartButtonEl.classList.add('colab-df-spinner');\n",
              "      try {\n",
              "        const charts = await google.colab.kernel.invokeFunction(\n",
              "            'suggestCharts', [key], {});\n",
              "      } catch (error) {\n",
              "        console.error('Error during call to suggestCharts:', error);\n",
              "      }\n",
              "      quickchartButtonEl.classList.remove('colab-df-spinner');\n",
              "      quickchartButtonEl.classList.add('colab-df-quickchart-complete');\n",
              "    }\n",
              "    (() => {\n",
              "      let quickchartButtonEl =\n",
              "        document.querySelector('#df-880db41c-312b-43c2-97d9-38d84a458c6c button');\n",
              "      quickchartButtonEl.style.display =\n",
              "        google.colab.kernel.accessAllowed ? 'block' : 'none';\n",
              "    })();\n",
              "  </script>\n",
              "</div>\n",
              "\n",
              "    </div>\n",
              "  </div>\n"
            ],
            "application/vnd.google.colaboratory.intrinsic+json": {
              "type": "dataframe",
              "variable_name": "df"
            }
          },
          "metadata": {},
          "execution_count": 76
        }
      ]
    },
    {
      "cell_type": "code",
      "source": [
        "df.drop(columns = ['id', 'Unnamed: 32'], inplace= True)\n",
        "X_train, X_test, y_train, y_test = train_test_split(df.iloc[:, 1:], df.iloc[:, 0], test_size=0.2)\n",
        "\n",
        "scaler = StandardScaler()\n",
        "X_train = scaler.fit_transform(X_train)\n",
        "X_test = scaler.transform(X_test)\n",
        "\n",
        "encoder = LabelEncoder()\n",
        "y_train = encoder.fit_transform(y_train)\n",
        "y_test = encoder.transform(y_test)"
      ],
      "metadata": {
        "id": "BRtBKrZVs7vh"
      },
      "execution_count": 77,
      "outputs": []
    },
    {
      "cell_type": "code",
      "source": [
        "X_train_tensor = torch.from_numpy(X_train).float()\n",
        "X_test_tensor = torch.from_numpy(X_test).float()\n",
        "y_train_tensor = torch.from_numpy(y_train).float()\n",
        "y_test_tensor = torch.from_numpy(y_test).float()"
      ],
      "metadata": {
        "id": "qfLToCFKuz3Y"
      },
      "execution_count": 78,
      "outputs": []
    },
    {
      "cell_type": "code",
      "source": [
        "class MySimpleNN(nn.Module):\n",
        "\n",
        "  def __init__(self, num_features):\n",
        "    super().__init__()\n",
        "    self.linear = nn.Linear(num_features, 1)\n",
        "    self.sigmoid = nn.Sigmoid()\n",
        "\n",
        "  def forward(self, features):\n",
        "    out = self.linear(features)\n",
        "    out = self.sigmoid(out)\n",
        "    return out\n",
        "\n",
        "\n",
        "  def loss_function(self, y_pred , y):\n",
        "      epsilon = 1e-7\n",
        "      y_pred = torch.clamp(y_pred, epsilon, 1-epsilon)\n",
        "\n",
        "      # Calculate loss\n",
        "      loss = -(y_train_tensor * torch.log(y_pred) + (1-y_train_tensor) * torch.log(1-y_pred)).mean()\n",
        "      return loss\n",
        "\n",
        ""
      ],
      "metadata": {
        "id": "drD3dg2FtE3x"
      },
      "execution_count": 79,
      "outputs": []
    },
    {
      "cell_type": "code",
      "source": [
        "learning_rate = 0.1\n",
        "epochs = 60"
      ],
      "metadata": {
        "id": "vMSePEIqt8GN"
      },
      "execution_count": 80,
      "outputs": []
    },
    {
      "cell_type": "code",
      "source": [
        "# create model\n",
        "model = MySimpleNN(X_train_tensor.shape[1])\n",
        "\n",
        "# define loop\n",
        "for epoch in range(epochs):\n",
        "\n",
        "  # forward pass\n",
        "  y_pred = model(X_train_tensor)\n",
        "\n",
        "  # loss calculate\n",
        "  loss = model.loss_function(y_pred, y_train_tensor)\n",
        "\n",
        "  # backward pass\n",
        "  loss.backward()\n",
        "\n",
        "  # parameters update\n",
        "  with torch.no_grad():\n",
        "    model.linear.weight -= learning_rate * model.linear.weight.grad\n",
        "    model.linear.bias -= learning_rate * model.linear.bias.grad\n",
        "\n",
        "  # zero gradients\n",
        "  model.linear.weight.grad.zero_()\n",
        "  model.linear.bias.grad.zero_()\n",
        "\n",
        "  # print loss in each epoch\n",
        "  print(f'Epoch: {epoch + 1}, Loss: {loss.item()}')"
      ],
      "metadata": {
        "colab": {
          "base_uri": "https://localhost:8080/"
        },
        "id": "r3aqfno_uLuK",
        "outputId": "6c6f36d5-fc3c-4943-b98d-68f247877e45"
      },
      "execution_count": 81,
      "outputs": [
        {
          "output_type": "stream",
          "name": "stdout",
          "text": [
            "Epoch: 1, Loss: 0.8197771310806274\n",
            "Epoch: 2, Loss: 0.77751225233078\n",
            "Epoch: 3, Loss: 0.7513142824172974\n",
            "Epoch: 4, Loss: 0.7354360222816467\n",
            "Epoch: 5, Loss: 0.7255520820617676\n",
            "Epoch: 6, Loss: 0.7189599871635437\n",
            "Epoch: 7, Loss: 0.714154839515686\n",
            "Epoch: 8, Loss: 0.7103489637374878\n",
            "Epoch: 9, Loss: 0.7071399688720703\n",
            "Epoch: 10, Loss: 0.7043216228485107\n",
            "Epoch: 11, Loss: 0.7017849683761597\n",
            "Epoch: 12, Loss: 0.6994696259498596\n",
            "Epoch: 13, Loss: 0.6973387598991394\n",
            "Epoch: 14, Loss: 0.6953678727149963\n",
            "Epoch: 15, Loss: 0.693539023399353\n",
            "Epoch: 16, Loss: 0.6918381452560425\n",
            "Epoch: 17, Loss: 0.6902531981468201\n",
            "Epoch: 18, Loss: 0.6887742877006531\n",
            "Epoch: 19, Loss: 0.6873922348022461\n",
            "Epoch: 20, Loss: 0.6860992908477783\n",
            "Epoch: 21, Loss: 0.6848882436752319\n",
            "Epoch: 22, Loss: 0.6837528944015503\n",
            "Epoch: 23, Loss: 0.6826871037483215\n",
            "Epoch: 24, Loss: 0.6816859841346741\n",
            "Epoch: 25, Loss: 0.6807447671890259\n",
            "Epoch: 26, Loss: 0.679858922958374\n",
            "Epoch: 27, Loss: 0.6790246963500977\n",
            "Epoch: 28, Loss: 0.678238570690155\n",
            "Epoch: 29, Loss: 0.677497148513794\n",
            "Epoch: 30, Loss: 0.6767973899841309\n",
            "Epoch: 31, Loss: 0.6761367917060852\n",
            "Epoch: 32, Loss: 0.6755124926567078\n",
            "Epoch: 33, Loss: 0.6749223470687866\n",
            "Epoch: 34, Loss: 0.6743643283843994\n",
            "Epoch: 35, Loss: 0.6738361716270447\n",
            "Epoch: 36, Loss: 0.6733362674713135\n",
            "Epoch: 37, Loss: 0.672862708568573\n",
            "Epoch: 38, Loss: 0.6724140644073486\n",
            "Epoch: 39, Loss: 0.6719889044761658\n",
            "Epoch: 40, Loss: 0.6715856790542603\n",
            "Epoch: 41, Loss: 0.6712032556533813\n",
            "Epoch: 42, Loss: 0.6708405613899231\n",
            "Epoch: 43, Loss: 0.6704962253570557\n",
            "Epoch: 44, Loss: 0.6701693534851074\n",
            "Epoch: 45, Loss: 0.6698589324951172\n",
            "Epoch: 46, Loss: 0.6695641279220581\n",
            "Epoch: 47, Loss: 0.6692840456962585\n",
            "Epoch: 48, Loss: 0.6690178513526917\n",
            "Epoch: 49, Loss: 0.6687649488449097\n",
            "Epoch: 50, Loss: 0.6685243844985962\n",
            "Epoch: 51, Loss: 0.6682957410812378\n",
            "Epoch: 52, Loss: 0.6680783033370972\n",
            "Epoch: 53, Loss: 0.667871356010437\n",
            "Epoch: 54, Loss: 0.6676744222640991\n",
            "Epoch: 55, Loss: 0.6674871444702148\n",
            "Epoch: 56, Loss: 0.6673089265823364\n",
            "Epoch: 57, Loss: 0.6671391725540161\n",
            "Epoch: 58, Loss: 0.66697758436203\n",
            "Epoch: 59, Loss: 0.6668237447738647\n",
            "Epoch: 60, Loss: 0.6666771769523621\n"
          ]
        }
      ]
    },
    {
      "cell_type": "markdown",
      "source": [
        "# Built in  loss function"
      ],
      "metadata": {
        "id": "cpMb_sYmwWnG"
      }
    },
    {
      "cell_type": "code",
      "source": [
        "loss_function = nn.BCELoss()"
      ],
      "metadata": {
        "id": "o_YWrau5uNpN"
      },
      "execution_count": 82,
      "outputs": []
    },
    {
      "cell_type": "code",
      "source": [
        "# create model\n",
        "model = MySimpleNN(X_train_tensor.shape[1])\n",
        "\n",
        "# define loop\n",
        "for epoch in range(epochs):\n",
        "\n",
        "  # forward pass\n",
        "  y_pred = model(X_train_tensor)\n",
        "\n",
        "  # loss calculate\n",
        "  loss = loss_function(y_pred, y_train_tensor.view(-1,1))\n",
        "\n",
        "  # backward pass\n",
        "  loss.backward()\n",
        "\n",
        "  # parameters update\n",
        "  with torch.no_grad():\n",
        "    model.linear.weight -= learning_rate * model.linear.weight.grad\n",
        "    model.linear.bias -= learning_rate * model.linear.bias.grad\n",
        "\n",
        "  # zero gradients\n",
        "  model.linear.weight.grad.zero_()\n",
        "  model.linear.bias.grad.zero_()\n",
        "\n",
        "  # print loss in each epoch\n",
        "  print(f'Epoch: {epoch + 1}, Loss: {loss.item()}')"
      ],
      "metadata": {
        "colab": {
          "base_uri": "https://localhost:8080/"
        },
        "id": "7qJeuycwwbeV",
        "outputId": "0cf8abd9-9cd4-4d30-da14-cdd52b534f49"
      },
      "execution_count": 83,
      "outputs": [
        {
          "output_type": "stream",
          "name": "stdout",
          "text": [
            "Epoch: 1, Loss: 0.624005913734436\n",
            "Epoch: 2, Loss: 0.49617576599121094\n",
            "Epoch: 3, Loss: 0.4230891168117523\n",
            "Epoch: 4, Loss: 0.3751775324344635\n",
            "Epoch: 5, Loss: 0.34085023403167725\n",
            "Epoch: 6, Loss: 0.3147689998149872\n",
            "Epoch: 7, Loss: 0.29411205649375916\n",
            "Epoch: 8, Loss: 0.27723535895347595\n",
            "Epoch: 9, Loss: 0.26311129331588745\n",
            "Epoch: 10, Loss: 0.25106221437454224\n",
            "Epoch: 11, Loss: 0.24062183499336243\n",
            "Epoch: 12, Loss: 0.23145821690559387\n",
            "Epoch: 13, Loss: 0.22332820296287537\n",
            "Epoch: 14, Loss: 0.21604914963245392\n",
            "Epoch: 15, Loss: 0.20948107540607452\n",
            "Epoch: 16, Loss: 0.20351479947566986\n",
            "Epoch: 17, Loss: 0.19806350767612457\n",
            "Epoch: 18, Loss: 0.19305749237537384\n",
            "Epoch: 19, Loss: 0.18843984603881836\n",
            "Epoch: 20, Loss: 0.1841636449098587\n",
            "Epoch: 21, Loss: 0.1801898032426834\n",
            "Epoch: 22, Loss: 0.1764853298664093\n",
            "Epoch: 23, Loss: 0.1730223447084427\n",
            "Epoch: 24, Loss: 0.1697768270969391\n",
            "Epoch: 25, Loss: 0.16672813892364502\n",
            "Epoch: 26, Loss: 0.1638582944869995\n",
            "Epoch: 27, Loss: 0.16115157306194305\n",
            "Epoch: 28, Loss: 0.15859410166740417\n",
            "Epoch: 29, Loss: 0.15617363154888153\n",
            "Epoch: 30, Loss: 0.15387926995754242\n",
            "Epoch: 31, Loss: 0.15170127153396606\n",
            "Epoch: 32, Loss: 0.1496308594942093\n",
            "Epoch: 33, Loss: 0.14766015112400055\n",
            "Epoch: 34, Loss: 0.14578203856945038\n",
            "Epoch: 35, Loss: 0.14399003982543945\n",
            "Epoch: 36, Loss: 0.1422782689332962\n",
            "Epoch: 37, Loss: 0.14064136147499084\n",
            "Epoch: 38, Loss: 0.13907445967197418\n",
            "Epoch: 39, Loss: 0.1375730335712433\n",
            "Epoch: 40, Loss: 0.13613300025463104\n",
            "Epoch: 41, Loss: 0.1347505748271942\n",
            "Epoch: 42, Loss: 0.13342224061489105\n",
            "Epoch: 43, Loss: 0.13214483857154846\n",
            "Epoch: 44, Loss: 0.13091537356376648\n",
            "Epoch: 45, Loss: 0.12973110377788544\n",
            "Epoch: 46, Loss: 0.12858951091766357\n",
            "Epoch: 47, Loss: 0.12748822569847107\n",
            "Epoch: 48, Loss: 0.12642507255077362\n",
            "Epoch: 49, Loss: 0.12539801001548767\n",
            "Epoch: 50, Loss: 0.12440517544746399\n",
            "Epoch: 51, Loss: 0.1234448030591011\n",
            "Epoch: 52, Loss: 0.1225152313709259\n",
            "Epoch: 53, Loss: 0.12161494046449661\n",
            "Epoch: 54, Loss: 0.12074249237775803\n",
            "Epoch: 55, Loss: 0.11989656090736389\n",
            "Epoch: 56, Loss: 0.11907589435577393\n",
            "Epoch: 57, Loss: 0.11827930063009262\n",
            "Epoch: 58, Loss: 0.11750566959381104\n",
            "Epoch: 59, Loss: 0.11675400286912918\n",
            "Epoch: 60, Loss: 0.11602327972650528\n"
          ]
        }
      ]
    },
    {
      "cell_type": "code",
      "source": [
        "# model evaluation\n",
        "with torch.no_grad():\n",
        "  y_pred = model.forward(X_test_tensor)\n",
        "  y_pred = (y_pred > 0.9).float()\n",
        "  accuracy = (y_pred == y_test_tensor).float().mean()\n",
        "  print(f'Accuracy: {accuracy.item()}')"
      ],
      "metadata": {
        "colab": {
          "base_uri": "https://localhost:8080/"
        },
        "id": "PweOVpJN3AH1",
        "outputId": "fa9a536d-fa49-429c-c88f-bd3762bd9899"
      },
      "execution_count": 84,
      "outputs": [
        {
          "output_type": "stream",
          "name": "stdout",
          "text": [
            "Accuracy: 0.5811018943786621\n"
          ]
        }
      ]
    },
    {
      "cell_type": "markdown",
      "source": [
        "# built in optimizer"
      ],
      "metadata": {
        "id": "v4DqwoyzxOs5"
      }
    },
    {
      "cell_type": "code",
      "source": [
        "# create model\n",
        "model = MySimpleNN(X_train_tensor.shape[1])\n",
        "\n",
        "#define optimizer\n",
        "optimizer = torch.optim.SGD(model.parameters(), learning_rate)\n",
        "# define loop\n",
        "for epoch in range(epochs):\n",
        "\n",
        "  # forward pass\n",
        "  y_pred = model(X_train_tensor)\n",
        "\n",
        "  # loss calculate\n",
        "  loss = loss_function(y_pred, y_train_tensor.view(-1,1))\n",
        "\n",
        "  # backward pass\n",
        "  loss.backward()\n",
        "\n",
        "  # parameters update\n",
        "  optimizer.step()\n",
        "\n",
        "  # zero gradients\n",
        "  optimizer.zero_grad()\n",
        "\n",
        "  # print loss in each epoch\n",
        "  print(f'Epoch: {epoch + 1}, Loss: {loss.item()}')"
      ],
      "metadata": {
        "colab": {
          "base_uri": "https://localhost:8080/"
        },
        "id": "yKe65lbGw8Ja",
        "outputId": "ab5f68b4-a0fe-4900-8c16-5dfe98164592"
      },
      "execution_count": 85,
      "outputs": [
        {
          "output_type": "stream",
          "name": "stdout",
          "text": [
            "Epoch: 1, Loss: 0.7062660455703735\n",
            "Epoch: 2, Loss: 0.5339075922966003\n",
            "Epoch: 3, Loss: 0.44322076439857483\n",
            "Epoch: 4, Loss: 0.38762038946151733\n",
            "Epoch: 5, Loss: 0.3494375944137573\n",
            "Epoch: 6, Loss: 0.3212183117866516\n",
            "Epoch: 7, Loss: 0.29928743839263916\n",
            "Epoch: 8, Loss: 0.28161096572875977\n",
            "Epoch: 9, Loss: 0.26696544885635376\n",
            "Epoch: 10, Loss: 0.25456690788269043\n",
            "Epoch: 11, Loss: 0.2438880354166031\n",
            "Epoch: 12, Loss: 0.23455984890460968\n",
            "Epoch: 13, Loss: 0.22631573677062988\n",
            "Epoch: 14, Loss: 0.2189578264951706\n",
            "Epoch: 15, Loss: 0.2123357355594635\n",
            "Epoch: 16, Loss: 0.20633304119110107\n",
            "Epoch: 17, Loss: 0.20085789263248444\n",
            "Epoch: 18, Loss: 0.19583682715892792\n",
            "Epoch: 19, Loss: 0.19121019542217255\n",
            "Epoch: 20, Loss: 0.18692904710769653\n",
            "Epoch: 21, Loss: 0.18295276165008545\n",
            "Epoch: 22, Loss: 0.17924727499485016\n",
            "Epoch: 23, Loss: 0.17578373849391937\n",
            "Epoch: 24, Loss: 0.17253755033016205\n",
            "Epoch: 25, Loss: 0.1694875806570053\n",
            "Epoch: 26, Loss: 0.1666155308485031\n",
            "Epoch: 27, Loss: 0.16390544176101685\n",
            "Epoch: 28, Loss: 0.1613433063030243\n",
            "Epoch: 29, Loss: 0.15891683101654053\n",
            "Epoch: 30, Loss: 0.15661504864692688\n",
            "Epoch: 31, Loss: 0.15442830324172974\n",
            "Epoch: 32, Loss: 0.15234780311584473\n",
            "Epoch: 33, Loss: 0.15036581456661224\n",
            "Epoch: 34, Loss: 0.1484752595424652\n",
            "Epoch: 35, Loss: 0.14666977524757385\n",
            "Epoch: 36, Loss: 0.14494359493255615\n",
            "Epoch: 37, Loss: 0.1432914286851883\n",
            "Epoch: 38, Loss: 0.1417085826396942\n",
            "Epoch: 39, Loss: 0.14019055664539337\n",
            "Epoch: 40, Loss: 0.1387334018945694\n",
            "Epoch: 41, Loss: 0.13733339309692383\n",
            "Epoch: 42, Loss: 0.13598716259002686\n",
            "Epoch: 43, Loss: 0.13469158113002777\n",
            "Epoch: 44, Loss: 0.13344372808933258\n",
            "Epoch: 45, Loss: 0.13224095106124878\n",
            "Epoch: 46, Loss: 0.131080761551857\n",
            "Epoch: 47, Loss: 0.12996087968349457\n",
            "Epoch: 48, Loss: 0.1288791447877884\n",
            "Epoch: 49, Loss: 0.1278335601091385\n",
            "Epoch: 50, Loss: 0.1268223077058792\n",
            "Epoch: 51, Loss: 0.12584362924098969\n",
            "Epoch: 52, Loss: 0.12489591538906097\n",
            "Epoch: 53, Loss: 0.1239776760339737\n",
            "Epoch: 54, Loss: 0.12308748066425323\n",
            "Epoch: 55, Loss: 0.12222401797771454\n",
            "Epoch: 56, Loss: 0.12138605117797852\n",
            "Epoch: 57, Loss: 0.12057239562273026\n",
            "Epoch: 58, Loss: 0.1197819784283638\n",
            "Epoch: 59, Loss: 0.11901375651359558\n",
            "Epoch: 60, Loss: 0.11826678365468979\n"
          ]
        }
      ]
    },
    {
      "cell_type": "code",
      "source": [
        "# model evaluation\n",
        "with torch.no_grad():\n",
        "  y_pred = model.forward(X_test_tensor)\n",
        "  y_pred = (y_pred > 0.9).float()\n",
        "  accuracy = (y_pred == y_test_tensor).float().mean()\n",
        "  print(f'Accuracy: {accuracy.item()}')"
      ],
      "metadata": {
        "colab": {
          "base_uri": "https://localhost:8080/"
        },
        "outputId": "204606b6-a387-42b1-cb20-9a18b719723f",
        "id": "rql5tCRgxSoc"
      },
      "execution_count": 86,
      "outputs": [
        {
          "output_type": "stream",
          "name": "stdout",
          "text": [
            "Accuracy: 0.573253333568573\n"
          ]
        }
      ]
    },
    {
      "cell_type": "code",
      "source": [],
      "metadata": {
        "id": "fPTbe7FUyI9n"
      },
      "execution_count": 86,
      "outputs": []
    }
  ]
}